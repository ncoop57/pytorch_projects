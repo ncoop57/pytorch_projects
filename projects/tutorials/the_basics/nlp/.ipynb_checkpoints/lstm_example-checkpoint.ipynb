{
 "cells": [
  {
   "cell_type": "code",
   "execution_count": 1,
   "metadata": {},
   "outputs": [],
   "source": [
    "import torch\n",
    "import torch.autograd as autograd\n",
    "import torch.nn as nn\n",
    "import torch.nn.functional as F\n",
    "import torch.optim as optim"
   ]
  },
  {
   "cell_type": "code",
   "execution_count": 5,
   "metadata": {},
   "outputs": [
    {
     "name": "stdout",
     "output_type": "stream",
     "text": [
      "Variable containing:\n",
      "(0 ,.,.) = \n",
      " -0.1850  0.2330  0.2281\n",
      "\n",
      "(1 ,.,.) = \n",
      " -0.0458  0.4195  0.3070\n",
      "\n",
      "(2 ,.,.) = \n",
      " -0.0002  0.4272  0.2519\n",
      "\n",
      "(3 ,.,.) = \n",
      "  0.0142  0.3676  0.1746\n",
      "\n",
      "(4 ,.,.) = \n",
      "  0.0098  0.4386  0.2111\n",
      "[torch.FloatTensor of size 5x1x3]\n",
      "\n",
      "Hidden (Variable containing:\n",
      "(0 ,.,.) = \n",
      "  0.0098  0.4386  0.2111\n",
      "[torch.FloatTensor of size 1x1x3]\n",
      ", Variable containing:\n",
      "(0 ,.,.) = \n",
      "  0.0271  0.7471  0.2904\n",
      "[torch.FloatTensor of size 1x1x3]\n",
      ")\n"
     ]
    }
   ],
   "source": [
    "lstm = nn.LSTM(3, 3) # Input dim is 3, output dim is 3\n",
    "inputs = [autograd.Variable(torch.rand((1, 3))) for _ in range(5)]\n",
    "#print(inputs)\n",
    "\n",
    "# initialize the hidden state.\n",
    "hidden = (autograd.Variable(torch.randn(1, 1, 3)), autograd.Variable(torch.randn((1, 1, 3))))\n",
    "#print(hidden)\n",
    "for i in inputs:\n",
    "    # Step through the sequence one element at a time.\n",
    "    # After each step, hidden contains the new hidden state.\n",
    "    out, hidden = lstm(i.view(1, 1, -1), hidden)\n",
    "\n",
    "#print(\"Hidden\", hidden)\n",
    "# We can also do the entire sequence at once.\n",
    "inputs = torch.cat(inputs).view(len(inputs), 1, -1)\n",
    "hidden = (autograd.Variable(torch.randn(1, 1, 3)), autograd.Variable(torch.randn((1, 1, 3))))\n",
    "out, hidden = lstm(inputs, hidden)\n",
    "print(out)\n",
    "print(\"Hidden\", hidden)"
   ]
  }
 ],
 "metadata": {
  "kernelspec": {
   "display_name": "Python 3",
   "language": "python",
   "name": "python3"
  },
  "language_info": {
   "codemirror_mode": {
    "name": "ipython",
    "version": 3
   },
   "file_extension": ".py",
   "mimetype": "text/x-python",
   "name": "python",
   "nbconvert_exporter": "python",
   "pygments_lexer": "ipython3",
   "version": "3.5.2"
  }
 },
 "nbformat": 4,
 "nbformat_minor": 2
}
